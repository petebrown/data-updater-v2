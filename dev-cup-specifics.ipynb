{
 "cells": [
  {
   "cell_type": "code",
   "execution_count": 2,
   "metadata": {},
   "outputs": [],
   "source": [
    "import requests\n",
    "import datetime\n",
    "\n",
    "def request_json(url):\n",
    "    r = requests.get(url)\n",
    "    return r.json()"
   ]
  },
  {
   "cell_type": "code",
   "execution_count": 6,
   "metadata": {},
   "outputs": [],
   "source": [
    "def get_url(date):\n",
    "    url = f'https://web-cdn.api.bbci.co.uk/wc-poll-data/container/sport-data-scores-fixtures?selectedEndDate={date}&selectedStartDate={date}&todayDate={date}&urn=urn%3Abbc%3Asportsdata%3Afootball%3Ateam%3Atranmere-rovers&useSdApi=false'\n",
    "    \n",
    "    print(url)\n",
    "    return url"
   ]
  },
  {
   "cell_type": "code",
   "execution_count": 15,
   "metadata": {},
   "outputs": [],
   "source": [
    "def get_data(date):\n",
    "    url = get_url(date)\n",
    "    data = request_json(url)\n",
    "    data = data['eventGroups'][0]\n",
    "    return data"
   ]
  },
  {
   "cell_type": "code",
   "execution_count": 41,
   "metadata": {},
   "outputs": [
    {
     "name": "stdout",
     "output_type": "stream",
     "text": [
      "https://web-cdn.api.bbci.co.uk/wc-poll-data/container/sport-data-scores-fixtures?selectedEndDate=2024-08-20&selectedStartDate=2024-08-20&todayDate=2024-08-20&urn=urn%3Abbc%3Asportsdata%3Afootball%3Ateam%3Atranmere-rovers&useSdApi=false\n",
      "https://web-cdn.api.bbci.co.uk/wc-poll-data/container/sport-data-scores-fixtures?selectedEndDate=2024-10-26&selectedStartDate=2024-10-26&todayDate=2024-10-26&urn=urn%3Abbc%3Asportsdata%3Afootball%3Ateam%3Atranmere-rovers&useSdApi=false\n",
      "https://web-cdn.api.bbci.co.uk/wc-poll-data/container/sport-data-scores-fixtures?selectedEndDate=2024-11-02&selectedStartDate=2024-11-02&todayDate=2024-11-02&urn=urn%3Abbc%3Asportsdata%3Afootball%3Ateam%3Atranmere-rovers&useSdApi=false\n",
      "https://web-cdn.api.bbci.co.uk/wc-poll-data/container/sport-data-scores-fixtures?selectedEndDate=2021-03-14&selectedStartDate=2021-03-14&todayDate=2021-03-14&urn=urn%3Abbc%3Asportsdata%3Afootball%3Ateam%3Atranmere-rovers&useSdApi=false\n",
      "https://web-cdn.api.bbci.co.uk/wc-poll-data/container/sport-data-scores-fixtures?selectedEndDate=2021-05-20&selectedStartDate=2021-05-20&todayDate=2021-05-20&urn=urn%3Abbc%3Asportsdata%3Afootball%3Ateam%3Atranmere-rovers&useSdApi=false\n",
      "https://web-cdn.api.bbci.co.uk/wc-poll-data/container/sport-data-scores-fixtures?selectedEndDate=2021-05-23&selectedStartDate=2021-05-23&todayDate=2021-05-23&urn=urn%3Abbc%3Asportsdata%3Afootball%3Ateam%3Atranmere-rovers&useSdApi=false\n",
      "https://web-cdn.api.bbci.co.uk/wc-poll-data/container/sport-data-scores-fixtures?selectedEndDate=2023-08-08&selectedStartDate=2023-08-08&todayDate=2023-08-08&urn=urn%3Abbc%3Asportsdata%3Afootball%3Ateam%3Atranmere-rovers&useSdApi=false\n"
     ]
    }
   ],
   "source": [
    "dates = ['2024-08-20', '2024-10-26', '2024-11-02', '2021-03-14', '2021-05-20', '2021-05-23', '2023-08-08']\n",
    "\n",
    "all_json = []\n",
    "\n",
    "for date in dates:\n",
    "    d = get_data(date)\n",
    "    all_json.append(d)"
   ]
  },
  {
   "cell_type": "code",
   "execution_count": 42,
   "metadata": {},
   "outputs": [
    {
     "name": "stdout",
     "output_type": "stream",
     "text": [
      "('home', 'away', 'id', 'urn', 'eventGroupingLabel', 'startDateTime', 'tournamentId', 'date', 'periodLabel', 'time', 'status', 'statusComment', 'participants', 'headToHeadDetailLabel', 'tournament', 'stage', 'round', 'winner', 'tipoTopicId', 'onwardJourneyLink', 'accessibleEventSummary', 'hasStandings')\n",
      "('home', 'away', 'id', 'urn', 'eventGroupingLabel', 'startDateTime', 'tournamentId', 'date', 'periodLabel', 'time', 'status', 'statusComment', 'participants', 'headToHeadDetailLabel', 'tournament', 'winner', 'tipoTopicId', 'onwardJourneyLink', 'accessibleEventSummary', 'hasStandings')\n",
      "('home', 'away', 'id', 'urn', 'eventGroupingLabel', 'startDateTime', 'tournamentId', 'date', 'periodLabel', 'time', 'status', 'statusComment', 'participants', 'headToHeadDetailLabel', 'tournament', 'stage', 'winner', 'tipoTopicId', 'onwardJourneyLink', 'accessibleEventSummary', 'hasStandings')\n",
      "('home', 'away', 'id', 'urn', 'eventGroupingLabel', 'startDateTime', 'tournamentId', 'date', 'periodLabel', 'time', 'status', 'statusComment', 'participants', 'headToHeadDetailLabel', 'tournament', 'stage', 'winner', 'accessibleEventSummary', 'hasStandings')\n",
      "('home', 'away', 'id', 'urn', 'eventGroupingLabel', 'startDateTime', 'tournamentId', 'date', 'periodLabel', 'time', 'status', 'statusComment', 'participants', 'headToHeadDetailLabel', 'tournament', 'stage', 'multiLeg', 'winner', 'seriesWinner', 'accessibleEventSummary', 'hasStandings')\n",
      "('home', 'away', 'id', 'urn', 'eventGroupingLabel', 'startDateTime', 'tournamentId', 'date', 'periodLabel', 'time', 'status', 'statusComment', 'participants', 'headToHeadDetailLabel', 'tournament', 'stage', 'multiLeg', 'winner', 'seriesWinner', 'accessibleEventSummary', 'hasStandings')\n",
      "('home', 'away', 'id', 'urn', 'eventGroupingLabel', 'startDateTime', 'tournamentId', 'date', 'periodLabel', 'time', 'status', 'statusComment', 'participants', 'headToHeadDetailLabel', 'tournament', 'stage', 'winner', 'accessibleEventSummary', 'hasStandings')\n"
     ]
    }
   ],
   "source": [
    "for d in all_json:\n",
    "    print(tuple(d['secondaryGroups'][0]['events'][0].keys()))"
   ]
  },
  {
   "cell_type": "code",
   "execution_count": 34,
   "metadata": {},
   "outputs": [
    {
     "name": "stdout",
     "output_type": "stream",
     "text": [
      "{'id': '5dtf6dgu9edzeg0joayupld04', 'name': 'Group Stage', 'urn': ''}\n",
      "{'id': '7ulx9vce9o13q14t9f01u4xsk', 'name': '1st Round', 'urn': ''}\n",
      "{'id': '3uwso05cl4ypfkmgtrz4zd0d0', 'name': 'Final', 'urn': ''}\n"
     ]
    }
   ],
   "source": [
    "for d in all_json:\n",
    "    if 'stage' in d['secondaryGroups'][0]['events'][0].keys():\n",
    "        print(d['secondaryGroups'][0]['events'][0]['stage'])"
   ]
  },
  {
   "cell_type": "code",
   "execution_count": 38,
   "metadata": {},
   "outputs": [
    {
     "name": "stdout",
     "output_type": "stream",
     "text": [
      "{'leg': 1, 'relatedMatchId': 's-5uts8nrojettmoviqopoyeolw', 'aggregateWinnerId': 's-8xeuwzxnm7hdlbjjuezgfkz3w'}\n",
      "{'leg': 2, 'relatedMatchId': 's-5ur8202m0exxr225eqcofypsk', 'aggregateWinnerId': 's-8xeuwzxnm7hdlbjjuezgfkz3w'}\n"
     ]
    }
   ],
   "source": [
    "for d in all_json:\n",
    "    if 'multiLeg' in d['secondaryGroups'][0]['events'][0].keys():\n",
    "        print(d['secondaryGroups'][0]['events'][0]['multiLeg'])"
   ]
  },
  {
   "cell_type": "code",
   "execution_count": 39,
   "metadata": {},
   "outputs": [
    {
     "name": "stdout",
     "output_type": "stream",
     "text": [
      "away\n",
      "home\n"
     ]
    }
   ],
   "source": [
    "for d in all_json:\n",
    "    if 'seriesWinner' in d['secondaryGroups'][0]['events'][0].keys():\n",
    "        print(d['secondaryGroups'][0]['events'][0]['seriesWinner'])"
   ]
  },
  {
   "cell_type": "code",
   "execution_count": 40,
   "metadata": {},
   "outputs": [
    {
     "name": "stdout",
     "output_type": "stream",
     "text": [
      "away\n",
      "home\n",
      "away\n",
      "home\n",
      "away\n",
      "draw\n"
     ]
    }
   ],
   "source": [
    "for d in all_json:\n",
    "    if 'winner' in d['secondaryGroups'][0]['events'][0].keys():\n",
    "        print(d['secondaryGroups'][0]['events'][0]['winner'])"
   ]
  },
  {
   "cell_type": "code",
   "execution_count": 43,
   "metadata": {},
   "outputs": [
    {
     "name": "stdout",
     "output_type": "stream",
     "text": [
      "False\n",
      "False\n",
      "False\n",
      "False\n",
      "False\n",
      "False\n",
      "True\n"
     ]
    }
   ],
   "source": [
    "for d in all_json:\n",
    "    print('penaltyShootout' in d['secondaryGroups'][0]['events'][0]['home']['runningScores'])"
   ]
  },
  {
   "cell_type": "code",
   "execution_count": null,
   "metadata": {},
   "outputs": [],
   "source": []
  }
 ],
 "metadata": {
  "kernelspec": {
   "display_name": "Python 3",
   "language": "python",
   "name": "python3"
  },
  "language_info": {
   "codemirror_mode": {
    "name": "ipython",
    "version": 3
   },
   "file_extension": ".py",
   "mimetype": "text/x-python",
   "name": "python",
   "nbconvert_exporter": "python",
   "pygments_lexer": "ipython3",
   "version": "3.12.5"
  }
 },
 "nbformat": 4,
 "nbformat_minor": 2
}
